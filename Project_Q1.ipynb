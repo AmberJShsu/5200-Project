{
  "nbformat": 4,
  "nbformat_minor": 0,
  "metadata": {
    "colab": {
      "provenance": [],
      "authorship_tag": "ABX9TyPB8tTlW/pkFO8sgYN03XgJ",
      "include_colab_link": true
    },
    "kernelspec": {
      "name": "python3",
      "display_name": "Python 3"
    },
    "language_info": {
      "name": "python"
    }
  },
  "cells": [
    {
      "cell_type": "markdown",
      "metadata": {
        "id": "view-in-github",
        "colab_type": "text"
      },
      "source": [
        "<a href=\"https://colab.research.google.com/github/AmberJShsu/5200-Project/blob/main/Project_Q1.ipynb\" target=\"_parent\"><img src=\"https://colab.research.google.com/assets/colab-badge.svg\" alt=\"Open In Colab\"/></a>"
      ]
    },
    {
      "cell_type": "code",
      "source": [
        "#1.1 table 2\n",
        "P_H = 0.33\n",
        "P_L = 0.46\n",
        "P_S = 0.21\n",
        "P_HH = 0.53*P_H*P_H\n",
        "P_HL = 0.74*P_H*P_L\n",
        "P_HS = 0.82*P_H*P_S\n",
        "P_LH = 0.44*P_L*P_H\n",
        "P_LL = 0.61*P_L*P_L\n",
        "P_LS = 0.71*P_L*P_S\n",
        "P_SH = 0.28*P_S*P_H\n",
        "P_SL = 0.41*P_S*P_L\n",
        "P_SS = 0.59*P_S*P_S\n",
        "\n",
        "P_wvd = [P_HH, P_HL, P_HS, P_LH, P_LL, P_LS, P_SH, P_SL, P_SS]\n",
        "total_p = sum(P_wvd)\n",
        "print(total_p)"
      ],
      "metadata": {
        "colab": {
          "base_uri": "https://localhost:8080/"
        },
        "id": "jEFrOhFIuBIb",
        "outputId": "930a35b1-cda4-4473-ad68-597e1999b033"
      },
      "execution_count": 3,
      "outputs": [
        {
          "output_type": "stream",
          "name": "stdout",
          "text": [
            "0.576358\n"
          ]
        }
      ]
    },
    {
      "cell_type": "code",
      "source": [
        "#1.1 table 3\n",
        "P_12 = P_1*P"
      ],
      "metadata": {
        "id": "14SkIDXM8tBC"
      },
      "execution_count": null,
      "outputs": []
    },
    {
      "cell_type": "markdown",
      "source": [
        "You are expected to conduct a reliability analysis to estimate the risk of accident due to insufficient\n",
        "in-trail separation. Calculate and compare the overall accident risk when the weather is good versus\n",
        "when the weather is bad.\n",
        "Assume that the weather conditions are such that 80% of the time the weather is good, but 20% of\n",
        "the time the weather is bad. Explore the level that the new technology should be utilized such that\n",
        "the overall accident risk due to insufficient in-trail separation is minimized. Given the projected\n",
        "impact of climate change on the local weather, it is expected that in 50 years the percentage of time\n",
        "that the weather is bad will increase. How will this affect the optimal tradeoff in the new\n",
        "technology?\n",
        "!\n"
      ],
      "metadata": {
        "id": "jRhFfK6qthSU"
      }
    },
    {
      "cell_type": "code",
      "execution_count": null,
      "metadata": {
        "id": "D_qMwNAnJuy7"
      },
      "outputs": [],
      "source": []
    }
  ]
}