{
  "nbformat": 4,
  "nbformat_minor": 0,
  "metadata": {
    "colab": {
      "provenance": []
    },
    "kernelspec": {
      "name": "python3",
      "display_name": "Python 3"
    },
    "language_info": {
      "name": "python"
    }
  },
  "cells": [
    {
      "cell_type": "code",
      "source": [
        "#1.1 table 2 compute probability for dangerous situation caused by wake vortex \n",
        "\n",
        "P_H = 0.33\n",
        "P_L = 0.46\n",
        "P_S = 0.21\n",
        "P_HH = 0.53*P_H*P_H\n",
        "P_HL = 0.74*P_H*P_L\n",
        "P_HS = 0.82*P_H*P_S\n",
        "P_LH = 0.44*P_L*P_H\n",
        "P_LL = 0.61*P_L*P_L\n",
        "P_LS = 0.71*P_L*P_S\n",
        "P_SH = 0.28*P_S*P_H\n",
        "P_SL = 0.41*P_S*P_L\n",
        "P_SS = 0.59*P_S*P_S\n",
        "\n",
        "P_wvd = [P_HH, P_HL, P_HS, P_LH, P_LL, P_LS, P_SH, P_SL, P_SS]\n",
        "total_p = sum(P_wvd)\n",
        "print(total_p)"
      ],
      "metadata": {
        "colab": {
          "base_uri": "https://localhost:8080/"
        },
        "id": "jEFrOhFIuBIb",
        "outputId": "930a35b1-cda4-4473-ad68-597e1999b033"
      },
      "execution_count": null,
      "outputs": [
        {
          "output_type": "stream",
          "name": "stdout",
          "text": [
            "0.576358\n"
          ]
        }
      ]
    },
    {
      "cell_type": "code",
      "source": [
        "#1.1 table 3 compute prob for \n",
        "#P(E1E2) = P(E1)*P(E2|E1)\n",
        "P_e1e2 = 2.69*10**-4 * 3.82*10**-2\n",
        "P_e3_g = 5.19*10**-6 * 0.8\n",
        "P_e3_b = 2.33*10**-5 * 0.2\n",
        "P_e4 = 6.24*10**-5\n",
        "P_e5_g = 7.23*10**-4 * 0.8\n",
        "P_e5_b = 4.34*10**-3 * 0.2\n",
        "P_e6 = 1.17*10**-3\n",
        "P_e7_g = 1.57*10**-4 * 0.8\n",
        "P_e7_g = 4.71*10**-4 * 0.2\n",
        "P_e8 = 2.01*10**-2 \n",
        "P_e9 = 1.95*10**-3\n",
        "\n",
        "#if all can happen at the same time\n",
        "#p_risk = product of all? "
      ],
      "metadata": {
        "id": "14SkIDXM8tBC"
      },
      "execution_count": null,
      "outputs": []
    },
    {
      "cell_type": "markdown",
      "source": [
        "You are expected to conduct a reliability analysis to estimate the risk of accident due to insufficient\n",
        "in-trail separation. Calculate and compare the overall accident risk when the weather is good versus\n",
        "when the weather is bad.\n",
        "Assume that the weather conditions are such that 80% of the time the weather is good, but 20% of\n",
        "the time the weather is bad. Explore the level that the new technology should be utilized such that\n",
        "the overall accident risk due to insufficient in-trail separation is minimized. Given the projected\n",
        "impact of climate change on the local weather, it is expected that in 50 years the percentage of time\n",
        "that the weather is bad will increase. How will this affect the optimal tradeoff in the new\n",
        "technology?\n"
      ],
      "metadata": {
        "id": "jRhFfK6qthSU"
      }
    },
    {
      "cell_type": "code",
      "execution_count": null,
      "metadata": {
        "id": "D_qMwNAnJuy7"
      },
      "outputs": [],
      "source": []
    }
  ]
}